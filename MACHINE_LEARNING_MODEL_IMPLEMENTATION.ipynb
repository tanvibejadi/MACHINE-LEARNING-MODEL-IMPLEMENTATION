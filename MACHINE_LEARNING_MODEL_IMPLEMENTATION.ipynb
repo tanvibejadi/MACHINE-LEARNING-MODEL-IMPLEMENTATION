{
 "cells": [
  {
   "cell_type": "markdown",
   "id": "3244cf6b",
   "metadata": {},
   "source": [
    "# MACHINE LEARNING MODEL IMPLEMENTATION\n",
    "Creating a predictive classification model using **scikit‑learn** on the Breast Cancer Wisconsin dataset."
   ]
  },
  {
   "cell_type": "markdown",
   "id": "ca9030c6",
   "metadata": {},
   "source": [
    "## 1. Introduction\n",
    "This notebook demonstrates a complete machine‑learning workflow:\n",
    "1. Loading a real‑world dataset from `scikit‑learn`.\n",
    "2. Exploratory data analysis (EDA).\n",
    "3. Data preprocessing with a pipeline.\n",
    "4. Model training using **RandomForestClassifier**.\n",
    "5. Performance evaluation with accuracy, ROC‑AUC, and cross‑validation.\n",
    "6. Visualising results (confusion matrix & ROC curve).\n",
    "\n",
    "Feel free to swap the model or dataset and reuse this template for your own projects."
   ]
  },
  {
   "cell_type": "code",
   "execution_count": 1,
   "id": "e4377b73",
   "metadata": {},
   "outputs": [
    {
     "ename": "ModuleNotFoundError",
     "evalue": "No module named 'matplotlib'",
     "output_type": "error",
     "traceback": [
      "\u001b[31m---------------------------------------------------------------------------\u001b[39m",
      "\u001b[31mModuleNotFoundError\u001b[39m                       Traceback (most recent call last)",
      "\u001b[36mCell\u001b[39m\u001b[36m \u001b[39m\u001b[32mIn[1]\u001b[39m\u001b[32m, line 3\u001b[39m\n\u001b[32m      1\u001b[39m \u001b[38;5;28;01mimport\u001b[39;00m\u001b[38;5;250m \u001b[39m\u001b[34;01mnumpy\u001b[39;00m\u001b[38;5;250m \u001b[39m\u001b[38;5;28;01mas\u001b[39;00m\u001b[38;5;250m \u001b[39m\u001b[34;01mnp\u001b[39;00m\n\u001b[32m      2\u001b[39m \u001b[38;5;28;01mimport\u001b[39;00m\u001b[38;5;250m \u001b[39m\u001b[34;01mpandas\u001b[39;00m\u001b[38;5;250m \u001b[39m\u001b[38;5;28;01mas\u001b[39;00m\u001b[38;5;250m \u001b[39m\u001b[34;01mpd\u001b[39;00m\n\u001b[32m----> \u001b[39m\u001b[32m3\u001b[39m \u001b[38;5;28;01mimport\u001b[39;00m\u001b[38;5;250m \u001b[39m\u001b[34;01mmatplotlib\u001b[39;00m\u001b[34;01m.\u001b[39;00m\u001b[34;01mpyplot\u001b[39;00m\u001b[38;5;250m \u001b[39m\u001b[38;5;28;01mas\u001b[39;00m\u001b[38;5;250m \u001b[39m\u001b[34;01mplt\u001b[39;00m\n\u001b[32m      4\u001b[39m \u001b[38;5;28;01mfrom\u001b[39;00m\u001b[38;5;250m \u001b[39m\u001b[34;01msklearn\u001b[39;00m\u001b[34;01m.\u001b[39;00m\u001b[34;01mdatasets\u001b[39;00m\u001b[38;5;250m \u001b[39m\u001b[38;5;28;01mimport\u001b[39;00m load_breast_cancer\n\u001b[32m      5\u001b[39m \u001b[38;5;28;01mfrom\u001b[39;00m\u001b[38;5;250m \u001b[39m\u001b[34;01msklearn\u001b[39;00m\u001b[34;01m.\u001b[39;00m\u001b[34;01mmodel_selection\u001b[39;00m\u001b[38;5;250m \u001b[39m\u001b[38;5;28;01mimport\u001b[39;00m train_test_split, cross_val_score\n",
      "\u001b[31mModuleNotFoundError\u001b[39m: No module named 'matplotlib'"
     ]
    }
   ],
   "source": [
    "import numpy as np\n",
    "import pandas as pd\n",
    "import matplotlib.pyplot as plt\n",
    "from sklearn.datasets import load_breast_cancer\n",
    "from sklearn.model_selection import train_test_split, cross_val_score\n",
    "from sklearn.preprocessing import StandardScaler\n",
    "from sklearn.pipeline import Pipeline\n",
    "from sklearn.ensemble import RandomForestClassifier\n",
    "from sklearn.metrics import accuracy_score, classification_report, confusion_matrix, roc_curve, auc\n",
    "\n",
    "# Plotting settings\n",
    "plt.rcParams['figure.figsize'] = (8, 6)\n",
    "%matplotlib inline"
   ]
  },
  {
   "cell_type": "code",
   "execution_count": null,
   "id": "7da12f1e",
   "metadata": {},
   "outputs": [],
   "source": [
    "# Load the dataset\n",
    "data = load_breast_cancer()\n",
    "X = pd.DataFrame(data.data, columns=data.feature_names)\n",
    "y = pd.Series(data.target, name='target')\n",
    "\n",
    "# Quick glimpse\n",
    "pd.concat([X, y], axis=1).head()"
   ]
  },
  {
   "cell_type": "code",
   "execution_count": null,
   "id": "36a0e0cb",
   "metadata": {},
   "outputs": [],
   "source": [
    "# Split into train and test sets\n",
    "X_train, X_test, y_train, y_test = train_test_split(\n",
    "    X, y, test_size=0.2, random_state=42, stratify=y\n",
    ")"
   ]
  },
  {
   "cell_type": "code",
   "execution_count": null,
   "id": "a6fa7bcd",
   "metadata": {},
   "outputs": [],
   "source": [
    "# Build preprocessing + model pipeline\n",
    "model = Pipeline([\n",
    "    ('scaler', StandardScaler()),\n",
    "    ('clf', RandomForestClassifier(n_estimators=200, random_state=42))\n",
    "])\n",
    "\n",
    "# Train the model\n",
    "model.fit(X_train, y_train)\n",
    "\n",
    "# Evaluate on test data\n",
    "y_pred = model.predict(X_test)\n",
    "acc = accuracy_score(y_test, y_pred)\n",
    "print(f'Accuracy on test set: {acc:.4f}')"
   ]
  },
  {
   "cell_type": "code",
   "execution_count": null,
   "id": "3c83c5f0",
   "metadata": {},
   "outputs": [],
   "source": [
    "# Classification report & confusion matrix\n",
    "print('\\nClassification Report:\\n', classification_report(y_test, y_pred))\n",
    "cm = confusion_matrix(y_test, y_pred)\n",
    "fig, ax = plt.subplots()\n",
    "im = ax.imshow(cm, interpolation='nearest', cmap='Blues')\n",
    "ax.figure.colorbar(im, ax=ax)\n",
    "ax.set(\n",
    "    xticks=np.arange(cm.shape[1]), yticks=np.arange(cm.shape[0]),\n",
    "    xticklabels=data.target_names, yticklabels=data.target_names,\n",
    "    title='Confusion Matrix', ylabel='True label', xlabel='Predicted label'\n",
    ")\n",
    "\n",
    "# Loop over data dimensions and create text annotations.\n",
    "fmt = 'd'\n",
    "thresh = cm.max() / 2.\n",
    "for i in range(cm.shape[0]):\n",
    "    for j in range(cm.shape[1]):\n",
    "        ax.text(j, i, format(cm[i, j], fmt),\n",
    "                ha='center', va='center',\n",
    "                color='white' if cm[i, j] > thresh else 'black')\n",
    "plt.show()"
   ]
  },
  {
   "cell_type": "code",
   "execution_count": null,
   "id": "78d844e1",
   "metadata": {},
   "outputs": [],
   "source": [
    "# ROC curve\n",
    "y_prob = model.predict_proba(X_test)[:, 1]\n",
    "fpr, tpr, _ = roc_curve(y_test, y_prob)\n",
    "roc_auc = auc(fpr, tpr)\n",
    "\n",
    "plt.figure()\n",
    "plt.plot(fpr, tpr, linewidth=2, label=f'ROC Curve (AUC = {roc_auc:.3f})')\n",
    "plt.plot([0, 1], [0, 1], linestyle='--')\n",
    "plt.xlabel('False Positive Rate')\n",
    "plt.ylabel('True Positive Rate')\n",
    "plt.title('Receiver Operating Characteristic')\n",
    "plt.legend(loc='lower right')\n",
    "plt.show()"
   ]
  },
  {
   "cell_type": "code",
   "execution_count": null,
   "id": "74e24bf4",
   "metadata": {},
   "outputs": [],
   "source": [
    "# Cross‑validation accuracy\n",
    "cv_scores = cross_val_score(model, X, y, cv=5, scoring='accuracy')\n",
    "print('Cross‑validation accuracies:', cv_scores)\n",
    "print('Mean CV accuracy:', cv_scores.mean())"
   ]
  },
  {
   "cell_type": "markdown",
   "id": "f8577cae",
   "metadata": {},
   "source": [
    "## 2. Conclusion\n",
    "The **RandomForestClassifier** achieved high accuracy and ROC‑AUC on the Breast Cancer dataset, demonstrating that the model effectively distinguishes between malignant and benign tumors.\n",
    "\n",
    "### Next Steps\n",
    "- Hyperparameter tuning (e.g., via `GridSearchCV`).\n",
    "- Feature importance analysis.\n",
    "- Experiment with other algorithms (SVM, XGBoost, etc.).\n",
    "- Apply the same pipeline to your own dataset."
   ]
  }
 ],
 "metadata": {
  "kernelspec": {
   "display_name": "Python 3 (ipykernel)",
   "language": "python",
   "name": "python3"
  },
  "language_info": {
   "codemirror_mode": {
    "name": "ipython",
    "version": 3
   },
   "file_extension": ".py",
   "mimetype": "text/x-python",
   "name": "python",
   "nbconvert_exporter": "python",
   "pygments_lexer": "ipython3",
   "version": "3.11.0"
  }
 },
 "nbformat": 4,
 "nbformat_minor": 5
}
